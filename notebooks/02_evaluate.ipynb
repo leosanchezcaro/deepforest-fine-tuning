{
 "cells": [
  {
   "cell_type": "markdown",
   "id": "ecb4f288-865c-4371-81a0-28d88c19ae01",
   "metadata": {},
   "source": [
    "# 03 — Evaluate\n",
    "\n",
    "Evaluate the base and fine-tuned DeepForest models with internal metrics and PR/F1 at a selected IoU.\n",
    "\n",
    "Inputs\n",
    "- `data/tiles/`\n",
    "- `data/labels/df_labels_valid.csv`\n",
    "- `data/labels/df_labels_test.csv`\n",
    "- `models/deepforest_ft.pt`\n",
    "\n",
    "Outputs\n",
    "- Printed internal metrics (IoU, mAP, mAP@50/75)\n",
    "- PR/F1 at IoU using the operating point max-F1 on VALID, reported on TEST\n",
    "- (optional) quick prediction plots\n",
    "\n",
    "Steps\n",
    "1) Load base (and optional fine-tuned) model.\n",
    "2) Run DeepForest validation to get internal metrics.\n",
    "3) Sweep score threshold on VALID >> pick max-F1 (fixed NMS).\n",
    "4) Report P/R/F1 on TEST using that threshold."
   ]
  },
  {
   "cell_type": "code",
   "execution_count": null,
   "id": "f970f7a8-6246-4bc9-8b93-b9b69311d43e",
   "metadata": {},
   "outputs": [],
   "source": [
    "# Root and dependencies\n",
    "\n",
    "import sys\n",
    "from pathlib import Path\n",
    "\n",
    "REPO_ROOT = Path.cwd().parent\n",
    "if str(REPO_ROOT) not in sys.path:\n",
    "    sys.path.insert(0, str(REPO_ROOT))\n",
    "\n",
    "import rasterio\n",
    "from deepforest import main\n",
    "import numpy as np\n",
    "import torch\n",
    "from PIL import Image\n",
    "import matplotlib.pyplot as plt\n",
    "from matplotlib.patches import Rectangle\n",
    "import pandas as pd\n",
    "from torchmetrics.detection.mean_ap import MeanAveragePrecision\n",
    "\n",
    "from scripts.eval_metrics import load_sets, prf1_at_threshold\n",
    "from scripts.vis_utils import plot_predictions\n",
    "\n",
    "# paths\n",
    "DATA = REPO_ROOT / \"data\"\n",
    "TILES = DATA / \"tiles\"\n",
    "LABELS = DATA / \"labels\"\n",
    "MODELS = REPO_ROOT / \"models\"\n",
    "VALID_CSV = LABELS / \"df_labels_valid.csv\"\n",
    "TEST_CSV  = LABELS / \"df_labels_test.csv\"\n",
    "\n",
    "print(\"REPO_ROOT:\", REPO_ROOT)"
   ]
  },
  {
   "cell_type": "markdown",
   "id": "b67656de-cb54-4688-b387-6fbc4267e468",
   "metadata": {},
   "source": [
    "## EVALUATE PERFORMANCE OF THE BASE MODEL"
   ]
  },
  {
   "cell_type": "code",
   "execution_count": null,
   "id": "c49f23e4-e5a0-418f-818a-2d279a525fe7",
   "metadata": {
    "scrolled": true
   },
   "outputs": [],
   "source": [
    "# load base model\n",
    "\n",
    "m_base = main.deepforest()\n",
    "m_base.load_model(model_name=\"weecology/deepforest-tree\", revision=\"main\")\n",
    "m_base.model.eval()"
   ]
  },
  {
   "cell_type": "code",
   "execution_count": null,
   "id": "59375586-abfc-449d-89ac-532dc8ff476c",
   "metadata": {},
   "outputs": [],
   "source": [
    "# internal metrics\n",
    "\n",
    "m_base.config[\"validation\"][\"csv_file\"] = str(TEST_CSV)\n",
    "m_base.config[\"validation\"][\"root_dir\"] = str(TILES)\n",
    "\n",
    "m_base.create_trainer()\n",
    "results = m_base.trainer.validate(m_base)\n",
    "\n",
    "print(results[0])  # dict with iou, map, map_50, map_75, losses, etc."
   ]
  },
  {
   "cell_type": "code",
   "execution_count": null,
   "id": "084e3087-f6da-4de0-a20b-df8dbd004094",
   "metadata": {},
   "outputs": [],
   "source": [
    "# Set thresholds and paths to compute max-F1 for both models (keep fixed to make a fair comparison between the models)\n",
    "\n",
    "IOU_THR = 0.3\n",
    "NMS = 0.05   # this is deepforest's retinanet internal default, 0.3-0.5 is common\n",
    "THRS = np.linspace(0.0, 0.9, 91)\n",
    "\n",
    "VAL_CSV, TEST_CSV, ROOT = Path(VALID_CSV), Path(TEST_CSV), Path(TILES)"
   ]
  },
  {
   "cell_type": "code",
   "execution_count": null,
   "id": "9d016e5f-aae5-4ea6-a557-ffa38f2cb326",
   "metadata": {
    "scrolled": true
   },
   "outputs": [],
   "source": [
    "# PR/F1 @ IoU with operating point = max-F1 calculated on VALID, applied to TEST\n",
    "\n",
    "# pick threshold on validation set (common rule = max-F1 @ IoU)\n",
    "GT_val, PRED_val = load_sets(m_base, VAL_CSV, ROOT, NMS)\n",
    "best = max(((*prf1_at_threshold(GT_val, PRED_val, t, IOU_THR), t) for t in THRS),\n",
    "           key=lambda x: x[2])\n",
    "P_val, R_val, F1_val, THR_SEL = best\n",
    "print(f\"VAL @IoU={IOU_THR}: max-F1={F1_val:.3f} (thr={THR_SEL:.2f}, P={P_val:.3f}, R={R_val:.3f})\")\n",
    "\n",
    "# evaluate on test set using that threshold\n",
    "GT_test, PRED_test = load_sets(m_base, TEST_CSV, ROOT, NMS)\n",
    "P_t, R_t, F1_t = prf1_at_threshold(GT_test, PRED_test, THR_SEL, IOU_THR)\n",
    "print(f\"TEST @IoU={IOU_THR}: P={P_t:.3f}  R={R_t:.3f}  F1={F1_t:.3f}  (thr={THR_SEL:.2f}, NMS={NMS})\")"
   ]
  },
  {
   "cell_type": "code",
   "execution_count": null,
   "id": "751a0ce7-4cdd-4acf-8ab3-79b3eee041f2",
   "metadata": {
    "scrolled": true
   },
   "outputs": [],
   "source": [
    "# Plot image example\n",
    "\n",
    "im = Image.open(TILES / \"tile03.tif\").convert(\"RGB\")  # insert tile name\n",
    "arr = np.array(im)\n",
    "pred = m_base.predict_image(arr)\n",
    "print(pred.head() if pred is not None else \"No detections\")\n",
    "\n",
    "plot_predictions(arr, pred, title=\"Predictions - Base model\")"
   ]
  },
  {
   "cell_type": "markdown",
   "id": "8698ffdc-8868-426e-92c1-22866a8b8a19",
   "metadata": {},
   "source": [
    "## EVALUATE PERFORMANCE OF THE FINE TUNED MODEL"
   ]
  },
  {
   "cell_type": "code",
   "execution_count": null,
   "id": "6c35f977-812e-4bbc-acc4-b091ef8d135c",
   "metadata": {
    "scrolled": true
   },
   "outputs": [],
   "source": [
    "FT = REPO_ROOT/\"models\"/\"deepforest_ft.pt\"\n",
    "\n",
    "m_ft = main.deepforest.load_from_checkpoint(str(FT))\n",
    "m_ft.create_trainer()\n",
    "m_ft.model.eval()"
   ]
  },
  {
   "cell_type": "code",
   "execution_count": null,
   "id": "91b18b14-bf03-4146-874f-e0687d22867c",
   "metadata": {
    "scrolled": true
   },
   "outputs": [],
   "source": [
    "# internal metrics\n",
    "\n",
    "m_ft.config[\"validation\"][\"csv_file\"] = str(TEST_CSV)\n",
    "m_ft.config[\"validation\"][\"root_dir\"] = str(TILES)\n",
    "\n",
    "m_ft.create_trainer()\n",
    "results = m_ft.trainer.validate(m_ft)\n",
    "\n",
    "print(results[0])"
   ]
  },
  {
   "cell_type": "code",
   "execution_count": null,
   "id": "e3e329a1-3bb6-4612-bd87-b07238d1c0b3",
   "metadata": {},
   "outputs": [],
   "source": [
    "# PR/F1 @ IoU with operating point = max-F1 calculated on VALID, applied to TEST\n",
    "\n",
    "# pick threshold on validation set (common rule = max-F1 @ IoU)\n",
    "GT_val, PRED_val = load_sets(m_ft, VAL_CSV, ROOT, NMS)\n",
    "best = max(((*prf1_at_threshold(GT_val, PRED_val, t, IOU_THR), t) for t in THRS),\n",
    "           key=lambda x: x[2])\n",
    "P_val, R_val, F1_val, THR_SEL = best\n",
    "print(f\"VAL @IoU={IOU_THR}: max-F1={F1_val:.3f} (thr={THR_SEL:.2f}, P={P_val:.3f}, R={R_val:.3f})\")\n",
    "\n",
    "# evaluate on test set using that threshold\n",
    "GT_test, PRED_test = load_sets(m_ft, TEST_CSV, ROOT, NMS)\n",
    "P_t, R_t, F1_t = prf1_at_threshold(GT_test, PRED_test, THR_SEL, IOU_THR)\n",
    "print(f\"TEST @IoU={IOU_THR}: P={P_t:.3f}  R={R_t:.3f}  F1={F1_t:.3f}  (thr={THR_SEL:.2f}, NMS={NMS})\")"
   ]
  },
  {
   "cell_type": "code",
   "execution_count": null,
   "id": "2ee95138-9767-455d-8aab-5b87bd621232",
   "metadata": {},
   "outputs": [],
   "source": [
    "# Plot image example\n",
    "\n",
    "im = Image.open(TILES / \"tile03.tif\").convert(\"RGB\")  # insert tile name\n",
    "arr = np.array(im)\n",
    "pred = m_ft.predict_image(arr)\n",
    "print(pred.head() if pred is not None else \"No detections\")\n",
    "\n",
    "plot_predictions(arr, pred, title=\"Predictions - Fine tuned model\")"
   ]
  }
 ],
 "metadata": {
  "kernelspec": {
   "display_name": "Python (df_src)",
   "language": "python",
   "name": "df_src"
  },
  "language_info": {
   "codemirror_mode": {
    "name": "ipython",
    "version": 3
   },
   "file_extension": ".py",
   "mimetype": "text/x-python",
   "name": "python",
   "nbconvert_exporter": "python",
   "pygments_lexer": "ipython3",
   "version": "3.11.9"
  }
 },
 "nbformat": 4,
 "nbformat_minor": 5
}

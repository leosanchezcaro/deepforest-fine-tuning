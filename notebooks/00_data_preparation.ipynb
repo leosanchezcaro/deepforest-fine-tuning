{
 "cells": [
  {
   "cell_type": "markdown",
   "id": "9c2853db-9731-428f-8e40-5e010a39c0e7",
   "metadata": {},
   "source": [
    "# 00 — Data preparation\n",
    "\n",
    "Prepare tiles and labels for DeepForest training.\n",
    "\n",
    "Inputs\n",
    "- `data/tiles/` — GeoTIFF tiles (same CRS). RGB or RGBA.\n",
    "- `data/labels/BOXES.shp` — annotated boxes in the same CRS.\n",
    "- `data/labels/splits.json` — filenames per split.\n",
    "\n",
    "Outputs\n",
    "- `data/labels/deepforest_labels.csv` (image_path,xmin,ymin,xmax,ymax,label)\n",
    "- `data/labels/df_labels_train.csv`\n",
    "- `data/labels/df_labels_valid.csv`\n",
    "- `data/labels/df_labels_test.csv`\n",
    "\n",
    "Steps\n",
    "1) (optional) Convert RGBA to RGB in place.\n",
    "2) (optional) Fit tiles to a selected reference tile.\n",
    "3) Build DeepForest CSV from BOXES.shp (shapefile with annotated boxes).\n",
    "4) Split CSV into train/val/test using splits.json (edit json file to update the split)."
   ]
  },
  {
   "cell_type": "code",
   "execution_count": null,
   "id": "e47effeb-8ee5-4e52-ac14-5d48f961b8dc",
   "metadata": {},
   "outputs": [],
   "source": [
    "# Root and dependencies\n",
    "\n",
    "import sys\n",
    "from pathlib import Path\n",
    "\n",
    "REPO_ROOT = Path.cwd().parent\n",
    "if str(REPO_ROOT) not in sys.path:\n",
    "    sys.path.insert(0, str(REPO_ROOT))\n",
    "print(\"REPO_ROOT:\", REPO_ROOT)\n",
    "\n",
    "import rasterio\n",
    "from rasterio.shutil import copy as rio_copy\n",
    "import numpy as np\n",
    "import geopandas as gpd\n",
    "from shapely.geometry import box\n",
    "import pandas as pd\n",
    "import json\n",
    "\n",
    "from scripts.rgba_to_rgb import convert_folder_inplace\n",
    "from scripts.clip_tiles import fit_folder\n",
    "from scripts.boxes_to_csv import build_deepforest_csv, split_labels\n",
    "\n",
    "# paths\n",
    "\n",
    "DATA = REPO_ROOT / \"data\"\n",
    "TILES = DATA / \"tiles\"\n",
    "LABELS = DATA / \"labels\"\n",
    "MODELS = REPO_ROOT / \"models\""
   ]
  },
  {
   "cell_type": "code",
   "execution_count": null,
   "id": "e9cc87a0-5d33-4ec4-aacb-832741e51964",
   "metadata": {},
   "outputs": [],
   "source": [
    "# CONVERT RGBA TO RGB\n",
    "\n",
    "stats = convert_folder_inplace(TILES)\n",
    "print(\"Kept RGB, Converted, Other:\", stats)"
   ]
  },
  {
   "cell_type": "code",
   "execution_count": null,
   "id": "fabda281-9aa9-45fd-a41f-27dbe5dd656f",
   "metadata": {},
   "outputs": [],
   "source": [
    "# CLIP OR PAD ALL TILES BASED ON A REFERENCE\n",
    "\n",
    "REF = TILES / \"tile01.tif\"      # select reference tile \n",
    "\n",
    "fit_folder(ref_path=REF, dir_path=TILES, padval=0)\n",
    "print(\"Done:\", TILES)"
   ]
  },
  {
   "cell_type": "code",
   "execution_count": null,
   "id": "91ec560e-1fb1-4ffd-a188-50a6dbb04ad7",
   "metadata": {},
   "outputs": [],
   "source": [
    "# CREATE CSVs IN DEEPFOREST FORMAT\n",
    "\n",
    "VECT_PATH = LABELS / \"BOXES.shp\"\n",
    "OUT_CSV = LABELS / \"deepforest_labels.csv\"\n",
    "SPLITS_JSON = LABELS / \"splits.json\"\n",
    "\n",
    "# create deepforest_labels.csv\n",
    "build_deepforest_csv(tiles_dir=TILES, vect_path=VECT_PATH, out_csv=OUT_CSV)\n",
    "\n",
    "# create df_labels_train/valid/test.csv based on splits.json\n",
    "split_labels(labels_dir=LABELS, base_csv=OUT_CSV, splits_json=SPLITS_JSON)"
   ]
  }
 ],
 "metadata": {
  "kernelspec": {
   "display_name": "Python (df_src)",
   "language": "python",
   "name": "df_src"
  },
  "language_info": {
   "codemirror_mode": {
    "name": "ipython",
    "version": 3
   },
   "file_extension": ".py",
   "mimetype": "text/x-python",
   "name": "python",
   "nbconvert_exporter": "python",
   "pygments_lexer": "ipython3",
   "version": "3.11.9"
  }
 },
 "nbformat": 4,
 "nbformat_minor": 5
}

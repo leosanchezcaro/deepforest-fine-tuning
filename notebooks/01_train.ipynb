{
 "cells": [
  {
   "cell_type": "markdown",
   "id": "93a0aea9-82f6-49ce-99e6-47ef3c55ef6d",
   "metadata": {},
   "source": [
    "# 01 — Train\n",
    "\n",
    "Fine-tune DeepForest on local data.\n",
    "\n",
    "Inputs\n",
    "- `data/tiles/` — GeoTIFF tiles (RGB).  \n",
    "- `data/labels/df_labels_train.csv`  \n",
    "- `data/labels/df_labels_valid.csv`\n",
    "\n",
    "Outputs\n",
    "- `models/deepforest_ft.pt` (fine-tuned model)\n",
    "- Printed internal metrics (IoU/mAP) after validation\n",
    "- Optional preview plot of predictions\n",
    "\n",
    "Steps\n",
    "1) Load pretrained DeepForest.\n",
    "2) Set training/validation config (paths, epochs, lr, batch).\n",
    "3) Train with PyTorch Lightning Trainer.\n",
    "4) Validate and print metrics.\n",
    "5) (Optional) Plot predictions on a sample tile.\n",
    "6) Save model to .pt file."
   ]
  },
  {
   "cell_type": "code",
   "execution_count": null,
   "id": "11c7fd7b-816d-4889-8dbe-4edfc30551d7",
   "metadata": {},
   "outputs": [],
   "source": [
    "# Root and dependencies\n",
    "\n",
    "import sys\n",
    "from pathlib import Path\n",
    "\n",
    "REPO_ROOT = Path.cwd().parent\n",
    "if str(REPO_ROOT) not in sys.path:\n",
    "    sys.path.insert(0, str(REPO_ROOT))\n",
    "\n",
    "import numpy as np\n",
    "from PIL import Image\n",
    "import matplotlib.pyplot as plt\n",
    "from matplotlib.patches import Rectangle\n",
    "import pandas as pd\n",
    "from deepforest import main\n",
    "from pytorch_lightning import Trainer\n",
    "\n",
    "from scripts.vis_utils import plot_predictions\n",
    "\n",
    "# paths\n",
    "DATA = REPO_ROOT / \"data\"\n",
    "TILES = DATA / \"tiles\"\n",
    "LABELS = DATA / \"labels\"\n",
    "MODELS = REPO_ROOT / \"models\"\n",
    "TRAIN_CSV = LABELS / \"df_labels_train.csv\"\n",
    "VALID_CSV = LABELS / \"df_labels_valid.csv\"\n",
    "\n",
    "print(\"REPO_ROOT:\", REPO_ROOT)"
   ]
  },
  {
   "cell_type": "markdown",
   "id": "f91f2b6a-36ab-454c-a013-c17375a63de1",
   "metadata": {},
   "source": [
    "### LOAD BASE MODEL AND RE-TRAIN WITH LOCAL DATA"
   ]
  },
  {
   "cell_type": "code",
   "execution_count": null,
   "id": "7e7d1dcc-c3af-42be-a687-dceb96b02df1",
   "metadata": {},
   "outputs": [],
   "source": [
    "# Load pretrained model\n",
    "\n",
    "m = main.deepforest()\n",
    "m.load_model(model_name=\"weecology/deepforest-tree\", revision=\"main\")"
   ]
  },
  {
   "cell_type": "code",
   "execution_count": null,
   "id": "52ddb3da-34f8-49c9-8552-b7218b5333fb",
   "metadata": {},
   "outputs": [],
   "source": [
    "# Training config\n",
    "\n",
    "m.config[\"train\"][\"csv_file\"] = str(TRAIN_CSV)\n",
    "m.config[\"train\"][\"root_dir\"] = str(TILES)\n",
    "m.config[\"validation\"][\"csv_file\"] = str(VALID_CSV)\n",
    "m.config[\"validation\"][\"root_dir\"] = str(TILES)\n",
    "m.config[\"train\"][\"epochs\"] = 3\n",
    "m.config[\"train\"][\"lr\"] = 1e-4\n",
    "m.config[\"batch_size\"] = 2\n",
    "m.config[\"workers\"] = 0  # Windows"
   ]
  },
  {
   "cell_type": "code",
   "execution_count": null,
   "id": "68ac6b77-e7ef-4128-b805-2f4535a60a29",
   "metadata": {},
   "outputs": [],
   "source": [
    "# Train\n",
    "\n",
    "m.trainer = Trainer(\n",
    "    max_epochs=m.config[\"train\"][\"epochs\"],\n",
    "    accelerator=\"auto\",\n",
    "    devices=1\n",
    ")\n",
    "m.trainer.fit(m, ckpt_path=None)"
   ]
  },
  {
   "cell_type": "markdown",
   "id": "be62df09-02f5-44ab-8bfb-c4a425c622eb",
   "metadata": {},
   "source": [
    "### QUICK ASSESSMENT WITH VALIDATION DATA (proper evaluation done in 02_evaluate.ipynb)"
   ]
  },
  {
   "cell_type": "code",
   "execution_count": null,
   "id": "cdfbaad2-627c-44a2-a8f9-05288a2947d7",
   "metadata": {},
   "outputs": [],
   "source": [
    "# Internal metrics\n",
    "\n",
    "m.config[\"validation\"][\"csv_file\"] = str(VALID_CSV)\n",
    "m.config[\"validation\"][\"root_dir\"] = str(TILES)\n",
    "results = m.trainer.validate(m)\n",
    "print(results[0] if results else {})"
   ]
  },
  {
   "cell_type": "code",
   "execution_count": null,
   "id": "3415bbab-9983-4a24-ab0f-bde1d67d4262",
   "metadata": {},
   "outputs": [],
   "source": [
    "# Plot image example\n",
    "\n",
    "im = Image.open(TILES / \"tile03.tif\").convert(\"RGB\")  # insert tile name\n",
    "arr = np.array(im)\n",
    "pred = m.predict_image(arr)       # uses default thresholds, that is modified in evaluation\n",
    "print(pred.head() if pred is not None else \"No detections\")\n",
    "\n",
    "plot_predictions(arr, pred, title=\"Predictions (train defaults)\")"
   ]
  },
  {
   "cell_type": "code",
   "execution_count": null,
   "id": "360054cd-0b9a-49e2-a2ed-099a29cd17bd",
   "metadata": {},
   "outputs": [],
   "source": [
    "# Save re-trained model\n",
    "\n",
    "m.save_model(REPO_ROOT/\"models\"/\"deepforest_ft.pt\")"
   ]
  }
 ],
 "metadata": {
  "kernelspec": {
   "display_name": "Python (df_src)",
   "language": "python",
   "name": "df_src"
  },
  "language_info": {
   "codemirror_mode": {
    "name": "ipython",
    "version": 3
   },
   "file_extension": ".py",
   "mimetype": "text/x-python",
   "name": "python",
   "nbconvert_exporter": "python",
   "pygments_lexer": "ipython3",
   "version": "3.11.9"
  }
 },
 "nbformat": 4,
 "nbformat_minor": 5
}
